{
 "cells": [
  {
   "cell_type": "code",
   "execution_count": 1,
   "id": "37054add",
   "metadata": {},
   "outputs": [],
   "source": [
    "import pandas as pd\n",
    "import numpy as np\n",
    "from sklearn.metrics import accuracy_score, f1_score, roc_auc_score\n",
    "from tqdm import tqdm\n",
    "from mlxtend.feature_selection import SequentialFeatureSelector as SFS\n",
    "from imblearn.over_sampling import SMOTE\n",
    "\n",
    "from sklearn.linear_model import LogisticRegression\n",
    "from sklearn.tree import DecisionTreeClassifier\n",
    "from sklearn.ensemble import GradientBoostingClassifier\n",
    "from sklearn.ensemble import RandomForestClassifier\n",
    "from xgboost import XGBClassifier\n",
    "from sklearn.model_selection import StratifiedKFold\n",
    "import os,gc,copy\n",
    "import warnings\n",
    "warnings.filterwarnings(\"ignore\")"
   ]
  },
  {
   "cell_type": "code",
   "execution_count": 2,
   "id": "22c09811",
   "metadata": {},
   "outputs": [],
   "source": [
    "X_train = pd.read_csv(\"X_tr_encoded.csv\")\n",
    "Y_train = pd.read_csv(\"y_tr.csv\")\n",
    "\n",
    "X_train_resampled = copy.deepcopy(X_train.drop([\"customerID\"],axis = 1))\n",
    "y_train_resampled = copy.deepcopy(Y_train)"
   ]
  },
  {
   "cell_type": "code",
   "execution_count": 3,
   "id": "1b62bac0",
   "metadata": {},
   "outputs": [],
   "source": [
    "categorical_features = X_train.columns[X_train.dtypes==object].tolist()\n",
    "categorical_features.remove('customerID')\n",
    "numeric_features = X_train.columns[X_train.dtypes!=object].tolist()"
   ]
  },
  {
   "cell_type": "code",
   "execution_count": 4,
   "id": "fb647282",
   "metadata": {},
   "outputs": [],
   "source": [
    "X_train_resampled, y_train_resampled = SMOTE(random_state=100).fit_resample(X_train_resampled, Y_train[\"Churn\"].ravel()) "
   ]
  },
  {
   "cell_type": "code",
   "execution_count": 5,
   "id": "d7180f49",
   "metadata": {},
   "outputs": [
    {
     "name": "stderr",
     "output_type": "stream",
     "text": [
      "[Parallel(n_jobs=-1)]: Using backend LokyBackend with 12 concurrent workers.\n",
      "[Parallel(n_jobs=-1)]: Done   6 out of  19 | elapsed:    5.0s remaining:   10.9s\n",
      "[Parallel(n_jobs=-1)]: Done  16 out of  19 | elapsed:    5.1s remaining:    0.9s\n",
      "[Parallel(n_jobs=-1)]: Done  19 out of  19 | elapsed:    5.2s finished\n",
      "\n",
      "[2023-04-30 17:41:44] Features: 1/9 -- score: 0.7476317174586612[Parallel(n_jobs=-1)]: Using backend LokyBackend with 12 concurrent workers.\n",
      "[Parallel(n_jobs=-1)]: Done   5 out of  18 | elapsed:    0.0s remaining:    0.2s\n",
      "[Parallel(n_jobs=-1)]: Done  15 out of  18 | elapsed:    0.1s remaining:    0.0s\n",
      "[Parallel(n_jobs=-1)]: Done  18 out of  18 | elapsed:    0.1s finished\n",
      "\n",
      "[2023-04-30 17:41:44] Features: 2/9 -- score: 0.7714175532176691[Parallel(n_jobs=-1)]: Using backend LokyBackend with 12 concurrent workers.\n",
      "[Parallel(n_jobs=-1)]: Done   3 out of  17 | elapsed:    0.0s remaining:    0.4s\n",
      "[Parallel(n_jobs=-1)]: Done  12 out of  17 | elapsed:    0.1s remaining:    0.0s\n",
      "[Parallel(n_jobs=-1)]: Done  17 out of  17 | elapsed:    0.3s finished\n",
      "\n",
      "[2023-04-30 17:41:45] Features: 3/9 -- score: 0.7825020801836235[Parallel(n_jobs=-1)]: Using backend LokyBackend with 12 concurrent workers.\n",
      "[Parallel(n_jobs=-1)]: Done   2 out of  16 | elapsed:    0.2s remaining:    1.9s\n",
      "[Parallel(n_jobs=-1)]: Done  11 out of  16 | elapsed:    0.3s remaining:    0.1s\n",
      "[Parallel(n_jobs=-1)]: Done  16 out of  16 | elapsed:    0.4s finished\n",
      "\n",
      "[2023-04-30 17:41:45] Features: 4/9 -- score: 0.7866986371250675[Parallel(n_jobs=-1)]: Using backend LokyBackend with 12 concurrent workers.\n",
      "[Parallel(n_jobs=-1)]: Done   8 out of  15 | elapsed:    0.3s remaining:    0.3s\n",
      "[Parallel(n_jobs=-1)]: Done  15 out of  15 | elapsed:    0.6s finished\n",
      "\n",
      "[2023-04-30 17:41:46] Features: 5/9 -- score: 0.7882055180887673[Parallel(n_jobs=-1)]: Using backend LokyBackend with 12 concurrent workers.\n",
      "[Parallel(n_jobs=-1)]: Done   7 out of  14 | elapsed:    0.4s remaining:    0.4s\n",
      "[Parallel(n_jobs=-1)]: Done  14 out of  14 | elapsed:    0.7s finished\n",
      "\n",
      "[2023-04-30 17:41:47] Features: 6/9 -- score: 0.7880976438482442[Parallel(n_jobs=-1)]: Using backend LokyBackend with 12 concurrent workers.\n",
      "[Parallel(n_jobs=-1)]: Done   4 out of  13 | elapsed:    0.5s remaining:    1.3s\n",
      "[Parallel(n_jobs=-1)]: Done  11 out of  13 | elapsed:    0.6s remaining:    0.0s\n",
      "[Parallel(n_jobs=-1)]: Done  13 out of  13 | elapsed:    0.9s finished\n",
      "\n",
      "[2023-04-30 17:41:48] Features: 7/9 -- score: 0.7878824744023054[Parallel(n_jobs=-1)]: Using backend LokyBackend with 12 concurrent workers.\n",
      "[Parallel(n_jobs=-1)]: Done   3 out of  12 | elapsed:    0.6s remaining:    2.1s\n",
      "[Parallel(n_jobs=-1)]: Done  10 out of  12 | elapsed:    0.7s remaining:    0.1s\n",
      "[Parallel(n_jobs=-1)]: Done  12 out of  12 | elapsed:    0.8s finished\n",
      "\n",
      "[2023-04-30 17:41:49] Features: 8/9 -- score: 0.7872367344504465[Parallel(n_jobs=-1)]: Using backend LokyBackend with 12 concurrent workers.\n"
     ]
    },
    {
     "name": "stdout",
     "output_type": "stream",
     "text": [
      "('Dependents', 'PhoneService', 'MultipleLines', 'InternetService', 'OnlineSecurity', 'StreamingTV', 'Contract', 'PaymentMethod', 'MonthlyCharges')\n"
     ]
    },
    {
     "name": "stderr",
     "output_type": "stream",
     "text": [
      "[Parallel(n_jobs=-1)]: Done   6 out of  11 | elapsed:    0.6s remaining:    0.5s\n",
      "[Parallel(n_jobs=-1)]: Done  11 out of  11 | elapsed:    0.6s finished\n",
      "\n",
      "[2023-04-30 17:41:50] Features: 9/9 -- score: 0.7875596623298867"
     ]
    }
   ],
   "source": [
    "## logistic\n",
    "\n",
    "sfs_log = SFS(LogisticRegression(random_state=0),\n",
    "          k_features = 9,\n",
    "          forward= True,\n",
    "          floating = False,\n",
    "          verbose= 2,\n",
    "          scoring= 'accuracy',\n",
    "          cv = StratifiedKFold(n_splits=5, random_state=100, shuffle=True),\n",
    "          n_jobs= -1).fit(X_train_resampled, y_train_resampled)\n",
    "print(sfs_log.k_feature_names_)"
   ]
  },
  {
   "cell_type": "code",
   "execution_count": 6,
   "id": "bc6068f8",
   "metadata": {},
   "outputs": [
    {
     "name": "stderr",
     "output_type": "stream",
     "text": [
      "[Parallel(n_jobs=-1)]: Using backend LokyBackend with 12 concurrent workers.\n",
      "[Parallel(n_jobs=-1)]: Done   6 out of  19 | elapsed:    0.1s remaining:    0.2s\n",
      "[Parallel(n_jobs=-1)]: Done  16 out of  19 | elapsed:    0.1s remaining:    0.0s\n",
      "[Parallel(n_jobs=-1)]: Done  19 out of  19 | elapsed:    0.2s finished\n",
      "\n",
      "[2023-04-30 17:41:50] Features: 1/9 -- score: 0.7476317174586612[Parallel(n_jobs=-1)]: Using backend LokyBackend with 12 concurrent workers.\n",
      "[Parallel(n_jobs=-1)]: Done   5 out of  18 | elapsed:    0.0s remaining:    0.0s\n",
      "[Parallel(n_jobs=-1)]: Done  15 out of  18 | elapsed:    0.0s remaining:    0.0s\n",
      "[Parallel(n_jobs=-1)]: Done  18 out of  18 | elapsed:    0.1s finished\n",
      "\n",
      "[2023-04-30 17:41:51] Features: 2/9 -- score: 0.7714175532176691[Parallel(n_jobs=-1)]: Using backend LokyBackend with 12 concurrent workers.\n",
      "[Parallel(n_jobs=-1)]: Done   3 out of  17 | elapsed:    0.0s remaining:    0.1s\n",
      "[Parallel(n_jobs=-1)]: Done  12 out of  17 | elapsed:    0.0s remaining:    0.0s\n",
      "[Parallel(n_jobs=-1)]: Done  17 out of  17 | elapsed:    0.0s finished\n",
      "\n",
      "[2023-04-30 17:41:51] Features: 3/9 -- score: 0.7965996742348486[Parallel(n_jobs=-1)]: Using backend LokyBackend with 12 concurrent workers.\n",
      "[Parallel(n_jobs=-1)]: Done   2 out of  16 | elapsed:    0.0s remaining:    0.3s\n",
      "[Parallel(n_jobs=-1)]: Done  11 out of  16 | elapsed:    0.0s remaining:    0.0s\n",
      "[Parallel(n_jobs=-1)]: Done  16 out of  16 | elapsed:    0.1s finished\n",
      "\n",
      "[2023-04-30 17:41:51] Features: 4/9 -- score: 0.8073615628389165[Parallel(n_jobs=-1)]: Using backend LokyBackend with 12 concurrent workers.\n",
      "[Parallel(n_jobs=-1)]: Done   8 out of  15 | elapsed:    0.0s remaining:    0.0s\n",
      "[Parallel(n_jobs=-1)]: Done  15 out of  15 | elapsed:    0.0s finished\n",
      "\n",
      "[2023-04-30 17:41:51] Features: 5/9 -- score: 0.8110213542357286[Parallel(n_jobs=-1)]: Using backend LokyBackend with 12 concurrent workers.\n",
      "[Parallel(n_jobs=-1)]: Done   7 out of  14 | elapsed:    0.0s remaining:    0.0s\n",
      "[Parallel(n_jobs=-1)]: Done  14 out of  14 | elapsed:    0.1s finished\n",
      "\n",
      "[2023-04-30 17:41:52] Features: 6/9 -- score: 0.817586396380799[Parallel(n_jobs=-1)]: Using backend LokyBackend with 12 concurrent workers.\n",
      "[Parallel(n_jobs=-1)]: Done   4 out of  13 | elapsed:    0.0s remaining:    0.1s\n",
      "[Parallel(n_jobs=-1)]: Done  11 out of  13 | elapsed:    0.0s remaining:    0.0s\n",
      "[Parallel(n_jobs=-1)]: Done  13 out of  13 | elapsed:    0.1s finished\n",
      "\n",
      "[2023-04-30 17:41:52] Features: 7/9 -- score: 0.8162950322841025[Parallel(n_jobs=-1)]: Using backend LokyBackend with 12 concurrent workers.\n",
      "[Parallel(n_jobs=-1)]: Done   3 out of  12 | elapsed:    0.0s remaining:    0.1s\n",
      "[Parallel(n_jobs=-1)]: Done  10 out of  12 | elapsed:    0.0s remaining:    0.0s\n",
      "[Parallel(n_jobs=-1)]: Done  12 out of  12 | elapsed:    0.1s finished\n",
      "\n",
      "[2023-04-30 17:41:52] Features: 8/9 -- score: 0.8152188955368551[Parallel(n_jobs=-1)]: Using backend LokyBackend with 12 concurrent workers.\n",
      "[Parallel(n_jobs=-1)]: Done   6 out of  11 | elapsed:    0.0s remaining:    0.0s\n",
      "[Parallel(n_jobs=-1)]: Done  11 out of  11 | elapsed:    0.1s finished\n"
     ]
    },
    {
     "name": "stdout",
     "output_type": "stream",
     "text": [
      "('PhoneService', 'MultipleLines', 'InternetService', 'OnlineSecurity', 'OnlineBackup', 'TechSupport', 'StreamingTV', 'Contract', 'PaperlessBilling')\n"
     ]
    },
    {
     "name": "stderr",
     "output_type": "stream",
     "text": [
      "\n",
      "[2023-04-30 17:41:52] Features: 9/9 -- score: 0.8131739172477767"
     ]
    }
   ],
   "source": [
    "## decision tree\n",
    "\n",
    "sfs_dt = SFS(DecisionTreeClassifier(random_state=0),\n",
    "          k_features = 9,\n",
    "          forward= True,\n",
    "          floating = False,\n",
    "          verbose= 2,\n",
    "          scoring= 'accuracy',\n",
    "          cv = StratifiedKFold(n_splits=5, random_state=100, shuffle=True),\n",
    "          n_jobs= -1).fit(X_train_resampled, y_train_resampled)\n",
    "print(sfs_dt.k_feature_names_)"
   ]
  },
  {
   "cell_type": "code",
   "execution_count": 7,
   "id": "564e498e",
   "metadata": {},
   "outputs": [
    {
     "name": "stderr",
     "output_type": "stream",
     "text": [
      "[Parallel(n_jobs=-1)]: Using backend LokyBackend with 12 concurrent workers.\n",
      "[Parallel(n_jobs=-1)]: Done   6 out of  19 | elapsed:    2.1s remaining:    4.7s\n",
      "[Parallel(n_jobs=-1)]: Done  16 out of  19 | elapsed:    3.7s remaining:    0.6s\n",
      "[Parallel(n_jobs=-1)]: Done  19 out of  19 | elapsed:    9.0s finished\n",
      "\n",
      "[2023-04-30 17:42:02] Features: 1/9 -- score: 0.7476317174586612[Parallel(n_jobs=-1)]: Using backend LokyBackend with 12 concurrent workers.\n",
      "[Parallel(n_jobs=-1)]: Done   5 out of  18 | elapsed:    2.1s remaining:    5.6s\n",
      "[Parallel(n_jobs=-1)]: Done  15 out of  18 | elapsed:    3.8s remaining:    0.7s\n",
      "[Parallel(n_jobs=-1)]: Done  18 out of  18 | elapsed:    7.9s finished\n",
      "\n",
      "[2023-04-30 17:42:10] Features: 2/9 -- score: 0.7714175532176691[Parallel(n_jobs=-1)]: Using backend LokyBackend with 12 concurrent workers.\n",
      "[Parallel(n_jobs=-1)]: Done   3 out of  17 | elapsed:    2.1s remaining:   10.4s\n",
      "[Parallel(n_jobs=-1)]: Done  12 out of  17 | elapsed:    3.2s remaining:    1.3s\n",
      "[Parallel(n_jobs=-1)]: Done  17 out of  17 | elapsed:    7.2s finished\n",
      "\n",
      "[2023-04-30 17:42:17] Features: 3/9 -- score: 0.7967073168613286[Parallel(n_jobs=-1)]: Using backend LokyBackend with 12 concurrent workers.\n",
      "[Parallel(n_jobs=-1)]: Done   2 out of  16 | elapsed:    2.4s remaining:   17.1s\n",
      "[Parallel(n_jobs=-1)]: Done  11 out of  16 | elapsed:    3.0s remaining:    1.3s\n",
      "[Parallel(n_jobs=-1)]: Done  16 out of  16 | elapsed:    7.4s finished\n",
      "\n",
      "[2023-04-30 17:42:25] Features: 4/9 -- score: 0.8076844328148459[Parallel(n_jobs=-1)]: Using backend LokyBackend with 12 concurrent workers.\n",
      "[Parallel(n_jobs=-1)]: Done   8 out of  15 | elapsed:    3.2s remaining:    2.8s\n",
      "[Parallel(n_jobs=-1)]: Done  15 out of  15 | elapsed:    7.2s finished\n",
      "\n",
      "[2023-04-30 17:42:32] Features: 5/9 -- score: 0.8115586988154678[Parallel(n_jobs=-1)]: Using backend LokyBackend with 12 concurrent workers.\n",
      "[Parallel(n_jobs=-1)]: Done   7 out of  14 | elapsed:    3.5s remaining:    3.5s\n",
      "[Parallel(n_jobs=-1)]: Done  14 out of  14 | elapsed:    7.1s finished\n",
      "\n",
      "[2023-04-30 17:42:40] Features: 6/9 -- score: 0.8139274735366481[Parallel(n_jobs=-1)]: Using backend LokyBackend with 12 concurrent workers.\n",
      "[Parallel(n_jobs=-1)]: Done   4 out of  13 | elapsed:    3.1s remaining:    7.1s\n",
      "[Parallel(n_jobs=-1)]: Done  11 out of  13 | elapsed:    4.0s remaining:    0.6s\n",
      "[Parallel(n_jobs=-1)]: Done  13 out of  13 | elapsed:    6.8s finished\n",
      "\n",
      "[2023-04-30 17:42:47] Features: 7/9 -- score: 0.8151106738752677[Parallel(n_jobs=-1)]: Using backend LokyBackend with 12 concurrent workers.\n",
      "[Parallel(n_jobs=-1)]: Done   3 out of  12 | elapsed:    3.2s remaining:    9.9s\n",
      "[Parallel(n_jobs=-1)]: Done  10 out of  12 | elapsed:    4.0s remaining:    0.7s\n",
      "[Parallel(n_jobs=-1)]: Done  12 out of  12 | elapsed:    5.5s finished\n",
      "\n",
      "[2023-04-30 17:42:52] Features: 8/9 -- score: 0.8164019800684535[Parallel(n_jobs=-1)]: Using backend LokyBackend with 12 concurrent workers.\n",
      "[Parallel(n_jobs=-1)]: Done   6 out of  11 | elapsed:    6.2s remaining:    5.2s\n"
     ]
    },
    {
     "name": "stdout",
     "output_type": "stream",
     "text": [
      "('InternetService', 'OnlineSecurity', 'OnlineBackup', 'DeviceProtection', 'TechSupport', 'StreamingTV', 'Contract', 'MonthlyCharges', 'TotalCharges')\n"
     ]
    },
    {
     "name": "stderr",
     "output_type": "stream",
     "text": [
      "[Parallel(n_jobs=-1)]: Done  11 out of  11 | elapsed:    6.7s finished\n",
      "\n",
      "[2023-04-30 17:42:59] Features: 9/9 -- score: 0.8386794293724822"
     ]
    }
   ],
   "source": [
    "## RF\n",
    "\n",
    "sfs_rf = SFS(RandomForestClassifier(random_state=0),\n",
    "          k_features = 9,\n",
    "          forward= True,\n",
    "          floating = False,\n",
    "          verbose= 2,\n",
    "          scoring= 'accuracy',\n",
    "          cv = StratifiedKFold(n_splits=5, random_state=100, shuffle=True),\n",
    "          n_jobs= -1).fit(X_train_resampled, y_train_resampled)\n",
    "print(sfs_rf.k_feature_names_)"
   ]
  },
  {
   "cell_type": "code",
   "execution_count": 8,
   "id": "c1025bc2",
   "metadata": {},
   "outputs": [
    {
     "name": "stderr",
     "output_type": "stream",
     "text": [
      "[Parallel(n_jobs=-1)]: Using backend LokyBackend with 12 concurrent workers.\n",
      "[Parallel(n_jobs=-1)]: Done   6 out of  19 | elapsed:    1.4s remaining:    3.1s\n",
      "[Parallel(n_jobs=-1)]: Done  16 out of  19 | elapsed:    2.3s remaining:    0.4s\n",
      "[Parallel(n_jobs=-1)]: Done  19 out of  19 | elapsed:    4.4s finished\n",
      "\n",
      "[2023-04-30 17:43:04] Features: 1/9 -- score: 0.7476317174586612[Parallel(n_jobs=-1)]: Using backend LokyBackend with 12 concurrent workers.\n",
      "[Parallel(n_jobs=-1)]: Done   5 out of  18 | elapsed:    1.7s remaining:    4.5s\n",
      "[Parallel(n_jobs=-1)]: Done  15 out of  18 | elapsed:    3.0s remaining:    0.5s\n",
      "[Parallel(n_jobs=-1)]: Done  18 out of  18 | elapsed:    4.4s finished\n",
      "\n",
      "[2023-04-30 17:43:08] Features: 2/9 -- score: 0.7714175532176691[Parallel(n_jobs=-1)]: Using backend LokyBackend with 12 concurrent workers.\n",
      "[Parallel(n_jobs=-1)]: Done   3 out of  17 | elapsed:    1.9s remaining:    9.4s\n",
      "[Parallel(n_jobs=-1)]: Done  12 out of  17 | elapsed:    2.5s remaining:    1.0s\n",
      "[Parallel(n_jobs=-1)]: Done  17 out of  17 | elapsed:    4.6s finished\n",
      "\n",
      "[2023-04-30 17:43:13] Features: 3/9 -- score: 0.7952003779941181[Parallel(n_jobs=-1)]: Using backend LokyBackend with 12 concurrent workers.\n",
      "[Parallel(n_jobs=-1)]: Done   2 out of  16 | elapsed:    2.1s remaining:   15.1s\n",
      "[Parallel(n_jobs=-1)]: Done  11 out of  16 | elapsed:    2.7s remaining:    1.2s\n",
      "[Parallel(n_jobs=-1)]: Done  16 out of  16 | elapsed:    5.0s finished\n",
      "\n",
      "[2023-04-30 17:43:18] Features: 4/9 -- score: 0.8069311081400177[Parallel(n_jobs=-1)]: Using backend LokyBackend with 12 concurrent workers.\n",
      "[Parallel(n_jobs=-1)]: Done   8 out of  15 | elapsed:    3.0s remaining:    2.6s\n",
      "[Parallel(n_jobs=-1)]: Done  15 out of  15 | elapsed:    5.4s finished\n",
      "\n",
      "[2023-04-30 17:43:24] Features: 5/9 -- score: 0.8120976646935081[Parallel(n_jobs=-1)]: Using backend LokyBackend with 12 concurrent workers.\n",
      "[Parallel(n_jobs=-1)]: Done   7 out of  14 | elapsed:    3.3s remaining:    3.3s\n",
      "[Parallel(n_jobs=-1)]: Done  14 out of  14 | elapsed:    6.0s finished\n",
      "\n",
      "[2023-04-30 17:43:30] Features: 6/9 -- score: 0.8173716901629462[Parallel(n_jobs=-1)]: Using backend LokyBackend with 12 concurrent workers.\n",
      "[Parallel(n_jobs=-1)]: Done   4 out of  13 | elapsed:    3.5s remaining:    7.9s\n",
      "[Parallel(n_jobs=-1)]: Done  11 out of  13 | elapsed:    4.4s remaining:    0.7s\n",
      "[Parallel(n_jobs=-1)]: Done  13 out of  13 | elapsed:    6.9s finished\n",
      "\n",
      "[2023-04-30 17:43:37] Features: 7/9 -- score: 0.822322382428369[Parallel(n_jobs=-1)]: Using backend LokyBackend with 12 concurrent workers.\n",
      "[Parallel(n_jobs=-1)]: Done   3 out of  12 | elapsed:    3.6s remaining:   11.0s\n",
      "[Parallel(n_jobs=-1)]: Done  10 out of  12 | elapsed:    4.5s remaining:    0.8s\n",
      "[Parallel(n_jobs=-1)]: Done  12 out of  12 | elapsed:    5.6s finished\n",
      "\n",
      "[2023-04-30 17:43:43] Features: 8/9 -- score: 0.8263053333186644[Parallel(n_jobs=-1)]: Using backend LokyBackend with 12 concurrent workers.\n",
      "[Parallel(n_jobs=-1)]: Done   6 out of  11 | elapsed:    4.2s remaining:    3.5s\n"
     ]
    },
    {
     "name": "stdout",
     "output_type": "stream",
     "text": [
      "('tenure', 'MultipleLines', 'InternetService', 'OnlineSecurity', 'OnlineBackup', 'TechSupport', 'StreamingTV', 'Contract', 'PaymentMethod')\n"
     ]
    },
    {
     "name": "stderr",
     "output_type": "stream",
     "text": [
      "[Parallel(n_jobs=-1)]: Done  11 out of  11 | elapsed:    5.6s finished\n",
      "\n",
      "[2023-04-30 17:43:49] Features: 9/9 -- score: 0.8273810068378257"
     ]
    }
   ],
   "source": [
    "## GBM\n",
    "\n",
    "sfs_gbm = SFS(GradientBoostingClassifier(random_state=0),\n",
    "          k_features = 9,\n",
    "          forward= True,\n",
    "          floating = False,\n",
    "          verbose= 2,\n",
    "          scoring= 'accuracy',\n",
    "          cv = StratifiedKFold(n_splits=5, random_state=100, shuffle=True),\n",
    "          n_jobs= -1).fit(X_train_resampled, y_train_resampled)\n",
    "print(sfs_gbm.k_feature_names_)"
   ]
  },
  {
   "cell_type": "code",
   "execution_count": 9,
   "id": "2abf62cf",
   "metadata": {},
   "outputs": [
    {
     "name": "stderr",
     "output_type": "stream",
     "text": [
      "[Parallel(n_jobs=-1)]: Using backend LokyBackend with 12 concurrent workers.\n",
      "[Parallel(n_jobs=-1)]: Done   6 out of  19 | elapsed:    1.5s remaining:    3.4s\n",
      "[Parallel(n_jobs=-1)]: Done  16 out of  19 | elapsed:    2.2s remaining:    0.3s\n",
      "[Parallel(n_jobs=-1)]: Done  19 out of  19 | elapsed:    4.1s finished\n",
      "\n",
      "[2023-04-30 17:43:53] Features: 1/9 -- score: 0.7476317174586612[Parallel(n_jobs=-1)]: Using backend LokyBackend with 12 concurrent workers.\n",
      "[Parallel(n_jobs=-1)]: Done   5 out of  18 | elapsed:    1.2s remaining:    3.3s\n",
      "[Parallel(n_jobs=-1)]: Done  15 out of  18 | elapsed:    2.7s remaining:    0.5s\n",
      "[Parallel(n_jobs=-1)]: Done  18 out of  18 | elapsed:    4.4s finished\n",
      "\n",
      "[2023-04-30 17:43:58] Features: 2/9 -- score: 0.7714175532176691[Parallel(n_jobs=-1)]: Using backend LokyBackend with 12 concurrent workers.\n",
      "[Parallel(n_jobs=-1)]: Done   3 out of  17 | elapsed:    1.2s remaining:    6.1s\n",
      "[Parallel(n_jobs=-1)]: Done  12 out of  17 | elapsed:    3.3s remaining:    1.3s\n",
      "[Parallel(n_jobs=-1)]: Done  17 out of  17 | elapsed:    5.0s finished\n",
      "\n",
      "[2023-04-30 17:44:03] Features: 3/9 -- score: 0.7960615190059588[Parallel(n_jobs=-1)]: Using backend LokyBackend with 12 concurrent workers.\n",
      "[Parallel(n_jobs=-1)]: Done   2 out of  16 | elapsed:    3.0s remaining:   21.3s\n",
      "[Parallel(n_jobs=-1)]: Done  11 out of  16 | elapsed:    3.8s remaining:    1.7s\n",
      "[Parallel(n_jobs=-1)]: Done  16 out of  16 | elapsed:    5.8s finished\n",
      "\n",
      "[2023-04-30 17:44:09] Features: 4/9 -- score: 0.8074690317548644[Parallel(n_jobs=-1)]: Using backend LokyBackend with 12 concurrent workers.\n",
      "[Parallel(n_jobs=-1)]: Done   8 out of  15 | elapsed:    3.6s remaining:    3.1s\n",
      "[Parallel(n_jobs=-1)]: Done  15 out of  15 | elapsed:    6.1s finished\n",
      "\n",
      "[2023-04-30 17:44:15] Features: 5/9 -- score: 0.8159708305274258[Parallel(n_jobs=-1)]: Using backend LokyBackend with 12 concurrent workers.\n",
      "[Parallel(n_jobs=-1)]: Done   7 out of  14 | elapsed:    4.8s remaining:    4.8s\n",
      "[Parallel(n_jobs=-1)]: Done  14 out of  14 | elapsed:    8.0s finished\n",
      "\n",
      "[2023-04-30 17:44:23] Features: 6/9 -- score: 0.8355587196607317[Parallel(n_jobs=-1)]: Using backend LokyBackend with 12 concurrent workers.\n",
      "[Parallel(n_jobs=-1)]: Done   4 out of  13 | elapsed:    5.7s remaining:   13.0s\n",
      "[Parallel(n_jobs=-1)]: Done  11 out of  13 | elapsed:    7.1s remaining:    1.2s\n",
      "[Parallel(n_jobs=-1)]: Done  13 out of  13 | elapsed:    9.4s finished\n",
      "\n",
      "[2023-04-30 17:44:33] Features: 7/9 -- score: 0.840509527733176[Parallel(n_jobs=-1)]: Using backend LokyBackend with 12 concurrent workers.\n",
      "[Parallel(n_jobs=-1)]: Done   3 out of  12 | elapsed:    6.0s remaining:   18.1s\n",
      "[Parallel(n_jobs=-1)]: Done  10 out of  12 | elapsed:    7.2s remaining:    1.4s\n",
      "[Parallel(n_jobs=-1)]: Done  12 out of  12 | elapsed:    7.3s finished\n",
      "\n",
      "[2023-04-30 17:44:41] Features: 8/9 -- score: 0.841047393444512[Parallel(n_jobs=-1)]: Using backend LokyBackend with 12 concurrent workers.\n",
      "[Parallel(n_jobs=-1)]: Done   6 out of  11 | elapsed:    6.5s remaining:    5.4s\n"
     ]
    },
    {
     "name": "stdout",
     "output_type": "stream",
     "text": [
      "('MultipleLines', 'InternetService', 'OnlineSecurity', 'OnlineBackup', 'DeviceProtection', 'TechSupport', 'Contract', 'MonthlyCharges', 'TotalCharges')\n"
     ]
    },
    {
     "name": "stderr",
     "output_type": "stream",
     "text": [
      "[Parallel(n_jobs=-1)]: Done  11 out of  11 | elapsed:    6.8s finished\n",
      "\n",
      "[2023-04-30 17:44:48] Features: 9/9 -- score: 0.8472884075434377"
     ]
    }
   ],
   "source": [
    "## XGB\n",
    "\n",
    "sfs_xgb = SFS(XGBClassifier(random_state=0),\n",
    "          k_features = 9,\n",
    "          forward= True,\n",
    "          floating = False,\n",
    "          verbose= 2,\n",
    "          scoring= 'accuracy',\n",
    "          cv = StratifiedKFold(n_splits=5, random_state=100, shuffle=True),\n",
    "          n_jobs= -1).fit(X_train_resampled, y_train_resampled)\n",
    "print(sfs_xgb.k_feature_names_)"
   ]
  }
 ],
 "metadata": {
  "kernelspec": {
   "display_name": "Python 3 (ipykernel)",
   "language": "python",
   "name": "python3"
  },
  "language_info": {
   "codemirror_mode": {
    "name": "ipython",
    "version": 3
   },
   "file_extension": ".py",
   "mimetype": "text/x-python",
   "name": "python",
   "nbconvert_exporter": "python",
   "pygments_lexer": "ipython3",
   "version": "3.9.13"
  }
 },
 "nbformat": 4,
 "nbformat_minor": 5
}
